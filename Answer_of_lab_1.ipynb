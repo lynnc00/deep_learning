{
  "cells": [
    {
      "cell_type": "markdown",
      "metadata": {
        "id": "view-in-github",
        "colab_type": "text"
      },
      "source": [
        "<a href=\"https://colab.research.google.com/github/lynnc00/deep_learning/blob/lab/Answer_of_lab_1.ipynb\" target=\"_parent\"><img src=\"https://colab.research.google.com/assets/colab-badge.svg\" alt=\"Open In Colab\"/></a>"
      ]
    },
    {
      "cell_type": "markdown",
      "metadata": {
        "id": "-9dRget2_saY"
      },
      "source": [
        "# Training Neural Networks with Keras\n",
        "\n",
        "Welcome to the first practical session of the course! In this session, we will learn how to train neural networks with Keras. We will start with a simple example of a feedforward neural network for classification and then we will study the impact of the initialization of the weights on the convergence of the training algorithm.\n",
        "\n",
        "Keras is a high-level neural network API, built on top of TensorFlow 2.0. It provides a user-friendly interface to build, train and deploy deep learning models. Keras is designed to be modular, fast and easy to use.\n",
        "\n",
        "Throughout this course, we will focus on using Keras and TensorFlow for building and training neural networks. However, there are other popular deep learning frameworks such as PyTorch, MXNet, CNTK, etc. that you can also use to build and train neural networks.\n",
        "\n",
        "In order to use our code on Google Colab, we will need to ensure that any required packages are installed. We will use the following packages in this session:\n",
        "\n",
        "- `tensorflow`: an open-source library for numerical computation and large-scale machine learning.\n",
        "- `matplotlib`: a plotting library for the Python programming language and its numerical mathematics extension NumPy.\n",
        "- `numpy`: a library for scientific computing in Python.\n",
        "- `scikit-learn`: a machine learning library for the Python programming language.\n",
        "- `pandas`: a library providing high-performance, easy-to-use data structures and data analysis tools for the Python programming language.\n",
        "\n",
        "The following cell will check if the packages are installed, and if not, it will install them. Students familiar with how pip works might note that it already checks this before installing! The reason for this code (which will also appear in subsequent notebooks) is to speed up execution if you re-run the entire notebook - it will skip the installation step if the packages are already installed."
      ]
    },
    {
      "cell_type": "markdown",
      "metadata": {
        "collapsed": false,
        "id": "nQO7Cxlu_saZ"
      },
      "source": [
        "With the packages installed, we can now get started on the practical session!\n",
        "\n",
        "Today, we will be working with the famous MNIST dataset. MNIST (Modified National Institute of Standards and Technology) is a database of low resolution images of handwritten digits. The history here is interesting - the dataset was originally created in the 1980s, when researchers from the aforementioned institute collected samples from American Census Bureau employees and high school students. The dataset was then modified in the 1990s (hence the M in MNIST), and has since become a popular benchmark for machine learning algorithms.\n",
        "\n",
        "The dataset contains images, each of which is a 28x28 grayscale image of a handwritten digit. The goal is to classify each image into one of the 10 possible classes (0-9).\n",
        "\n",
        "![MNIST](https://upload.wikimedia.org/wikipedia/commons/2/27/MnistExamples.png)\n",
        "\n",
        "The Scikit-Learn library provides a convenient function to download and load the MNIST dataset. The following cell will download the dataset. Then we will take a look at the shape of the data."
      ]
    },
    {
      "cell_type": "code",
      "execution_count": null,
      "metadata": {
        "id": "8Fnr_zJc_saa"
      },
      "outputs": [],
      "source": [
        "import matplotlib.pyplot as plt\n",
        "import numpy as np\n",
        "\n",
        "from sklearn.datasets import load_digits\n",
        "\n",
        "digits = load_digits()"
      ]
    },
    {
      "cell_type": "code",
      "execution_count": null,
      "metadata": {
        "colab": {
          "base_uri": "https://localhost:8080/"
        },
        "id": "049FALSA_sab",
        "outputId": "dec58d07-4911-4516-a21e-672c11a2a61e"
      },
      "outputs": [
        {
          "output_type": "execute_result",
          "data": {
            "text/plain": [
              "(1797, 8, 8)"
            ]
          },
          "metadata": {},
          "execution_count": 3
        }
      ],
      "source": [
        "digits.images.shape"
      ]
    },
    {
      "cell_type": "markdown",
      "metadata": {
        "collapsed": false,
        "id": "sPl2jIhe_sab"
      },
      "source": [
        "This means that we have 1797 images, each of which is a 8x8 image. For basic image processing, we will need to flatten the images into a 1D array. In this case, Scikit-Learn has already provided the data in this format too:"
      ]
    },
    {
      "cell_type": "code",
      "execution_count": null,
      "metadata": {
        "colab": {
          "base_uri": "https://localhost:8080/"
        },
        "id": "Gi6TXWls_sab",
        "outputId": "0461e313-5757-4dee-9a02-ae6becb49cc0"
      },
      "outputs": [
        {
          "output_type": "execute_result",
          "data": {
            "text/plain": [
              "(1797, 64)"
            ]
          },
          "metadata": {},
          "execution_count": 4
        }
      ],
      "source": [
        "digits.data.shape"
      ]
    },
    {
      "cell_type": "markdown",
      "metadata": {
        "collapsed": false,
        "id": "2wUrXv8o_sab"
      },
      "source": [
        "For each image, we also have the corresponding label (or target, or class) in `digits.target`:"
      ]
    },
    {
      "cell_type": "code",
      "execution_count": null,
      "metadata": {
        "colab": {
          "base_uri": "https://localhost:8080/"
        },
        "id": "4WK_T6ej_sab",
        "outputId": "428e08e8-4942-4399-c272-7da3cd308352"
      },
      "outputs": [
        {
          "output_type": "execute_result",
          "data": {
            "text/plain": [
              "(1797,)"
            ]
          },
          "metadata": {},
          "execution_count": 5
        }
      ],
      "source": [
        "digits.target.shape"
      ]
    },
    {
      "cell_type": "markdown",
      "metadata": {
        "collapsed": false,
        "id": "pnDYmGIb_sac"
      },
      "source": [
        "We can take a look at some random images from the dataset. The following cell will select 9 random images and plot them in a 3x3 grid (meaning that you can rerun the cell to see different images)."
      ]
    },
    {
      "cell_type": "code",
      "execution_count": null,
      "metadata": {
        "colab": {
          "base_uri": "https://localhost:8080/",
          "height": 521
        },
        "id": "8z31cyDP_sac",
        "outputId": "a7cac983-911d-4268-d213-f146c3a1b5df"
      },
      "outputs": [
        {
          "output_type": "display_data",
          "data": {
            "text/plain": [
              "<Figure size 600x600 with 9 Axes>"
            ],
            "image/png": "[encoded data removed]"
          },
          "metadata": {}
        }
      ],
      "source": [
        "# Selecting 9 random indices\n",
        "random_indices = np.random.choice(len(digits.images), 9, replace=False)\n",
        "\n",
        "# Creating a 3x3 grid plot\n",
        "fig, axes = plt.subplots(3, 3, figsize=(6, 6))\n",
        "\n",
        "for i, ax in enumerate(axes.flat):\n",
        "    ax.imshow(digits.images[random_indices[i]], cmap=plt.cm.gray_r, interpolation='nearest')\n",
        "    ax.set_title(f\"Label: {digits.target[random_indices[i]]}\")\n",
        "\n",
        "    # Removing axis labels\n",
        "    ax.set_xticks([])\n",
        "    ax.set_yticks([])\n",
        "\n",
        "plt.show()"
      ]
    },
    {
      "cell_type": "markdown",
      "metadata": {
        "collapsed": false,
        "id": "eiBYUgz4_sac"
      },
      "source": [
        "As you can see, these images are very low resolution. This is because they were originally scanned from paper forms, and then scaled down to 8x8 pixels. This is a common problem in machine learning - the quality of the data is often a limiting factor in the performance of the model. In this case, the low resolution of the images makes it difficult to distinguish between some digits, even for humans. For example, the following images are all labelled as 9, but they look very different:"
      ]
    },
    {
      "cell_type": "code",
      "execution_count": null,
      "metadata": {
        "colab": {
          "base_uri": "https://localhost:8080/",
          "height": 521
        },
        "id": "i5CiCv_J_sac",
        "outputId": "dae2d389-6bb4-4fed-c683-a04d6c38056f"
      },
      "outputs": [
        {
          "output_type": "display_data",
          "data": {
            "text/plain": [
              "<Figure size 600x600 with 9 Axes>"
            ],
            "image/png": "[encoded data removed]"
          },
          "metadata": {}
        }
      ],
      "source": [
        "# Selecting 9 random indices of images labelled as 9\n",
        "random_indices = np.random.choice(np.where(digits.target == 9)[0], 9, replace=False)\n",
        "\n",
        "# Creating a 3x3 grid plot\n",
        "fig, axes = plt.subplots(3, 3, figsize=(6, 6))\n",
        "\n",
        "for i, ax in enumerate(axes.flat):\n",
        "    ax.imshow(digits.images[random_indices[i]], cmap=plt.cm.gray_r, interpolation='nearest')\n",
        "    ax.set_title(f\"Label: {digits.target[random_indices[i]]}\")\n",
        "\n",
        "    # Removing axis labels\n",
        "    ax.set_xticks([])\n",
        "    ax.set_yticks([])\n",
        "\n",
        "plt.show()"
      ]
    },
    {
      "cell_type": "markdown",
      "metadata": {
        "collapsed": false,
        "id": "zey27wVA_sad"
      },
      "source": [
        "While we are plotting the samples as images, remember that our model is only going to see a 1D array of numbers."
      ]
    },
    {
      "cell_type": "markdown",
      "metadata": {
        "id": "MC9ZXkQ__sad"
      },
      "source": [
        "## Train / Test Split\n",
        "\n",
        "In order to understand how well our model performs on _new_ data, we need to split our dataset into a training set and a test set. The training set will be used to train the model, and the test set will be used to evaluate the performance of the model.\n",
        "\n",
        "Let's keep some held-out data to be able to measure the generalization performance of our model."
      ]
    },
    {
      "cell_type": "code",
      "execution_count": null,
      "metadata": {
        "id": "ZzCUQ0s3_sad"
      },
      "outputs": [],
      "source": [
        "from sklearn.model_selection import train_test_split\n",
        "\n",
        "\n",
        "X_train, X_test, y_train, y_test = train_test_split(\n",
        "    digits.data,\n",
        "    digits.target,\n",
        "    test_size=0.2, # 20% of the data is used for testing\n",
        "    random_state=42 # Providing a value here means getting the same \"random\" split every time\n",
        ")"
      ]
    },
    {
      "cell_type": "markdown",
      "metadata": {
        "collapsed": false,
        "id": "eTHb3O-e_sad"
      },
      "source": [
        "Let's confirm that the data has been split correctly:"
      ]
    },
    {
      "cell_type": "code",
      "execution_count": null,
      "metadata": {
        "colab": {
          "base_uri": "https://localhost:8080/"
        },
        "id": "KLxos3K7_sad",
        "outputId": "9a29250c-f196-454a-86d0-94d003eb9ada"
      },
      "outputs": [
        {
          "output_type": "stream",
          "name": "stdout",
          "text": [
            "X_train shape: (1437, 64)\n",
            "y_train shape: (1437,)\n",
            "X_test shape: (360, 64)\n",
            "y_test shape: (360,)\n"
          ]
        }
      ],
      "source": [
        "print(f'X_train shape: {X_train.shape}')\n",
        "print(f'y_train shape: {y_train.shape}')\n",
        "print(f'X_test shape: {X_test.shape}')\n",
        "print(f'y_test shape: {y_test.shape}')"
      ]
    },
    {
      "cell_type": "markdown",
      "metadata": {
        "collapsed": false,
        "id": "JYWbdjRJ_sad"
      },
      "source": [
        "This is what we expected to see. It's always good to check as you go, to make sure that you haven't made a mistake somewhere - this is something that working in a notebook like this makes it easy to do."
      ]
    },
    {
      "cell_type": "markdown",
      "metadata": {
        "id": "ZcvE5oQL_sad"
      },
      "source": [
        "## Preprocessing of the Target Data\n",
        "\n",
        "The labels that we have are integers between 0 and 9. However, we want to train a neural network to classify the images into one of 10 classes. It can be a little counter-intuitive because we are dealing with numbers, but our classes are not ordinal.\n",
        "\n",
        "What do we mean by that? Let's imagine we were trying to predict the height of a building (separated into classes) from images. If a given building was actually 10m tall, and our model predicted 9m, we would consider that to be a better prediction than if it predicted 1m. This is because the classes are ordinal - there is meaning in the difference between the classes.\n",
        "\n",
        "In our case, even though we are dealing with numbers, the classes are not ordinal. If a given image is actually a 9, and our model predicts 8, we would consider that to be just as bad as if it predicted 1. This is because the classes are not ordered, and the difference between the classes is not meaningful.\n",
        "\n",
        "Because of this, we need to convert our labels from an integer value into a one-hot encoded vector. This means that each label will be represented as a vector of length 10, with a 1 in the position corresponding to the class, and 0s everywhere else. For example, the label 9 would be represented as `[0, 0, 0, 0, 0, 0, 0, 0, 0, 1]`. This is a common way of representing categorical data in machine learning. By doing this, we ensure that our model is taught the correct relationship between the classes."
      ]
    },
    {
      "cell_type": "code",
      "execution_count": null,
      "metadata": {
        "colab": {
          "base_uri": "https://localhost:8080/"
        },
        "id": "i0McFysK_sae",
        "outputId": "c71689db-8c01-425f-d736-ee59db49ff58"
      },
      "outputs": [
        {
          "output_type": "stream",
          "name": "stdout",
          "text": [
            "Before one-hot encoding: 6\n",
            "After one-hot encoding: [0. 0. 0. 0. 0. 0. 1. 0. 0. 0.]\n"
          ]
        }
      ],
      "source": [
        "from tensorflow.keras.utils import to_categorical\n",
        "\n",
        "print(f'Before one-hot encoding: {y_train[0]}')\n",
        "y_train = to_categorical(y_train, num_classes=10)\n",
        "y_test = to_categorical(y_test, num_classes=10)\n",
        "print(f'After one-hot encoding: {y_train[0]}')"
      ]
    },
    {
      "cell_type": "markdown",
      "metadata": {
        "id": "IiXYSYKg_sae"
      },
      "source": [
        "## Feed Forward Neural Networks with Keras\n",
        "\n",
        "Now that we have prepared our data, it's time to build a simple neural network! In this section, we will use the Keras API to build a simple feed forward neural network. We will then train the model on the MNIST dataset, and evaluate its performance on the test set.\n",
        "\n",
        "In most modern deep learning frameworks, the process of building a model can be broken down into a few steps:\n",
        "\n",
        "- Define the model architecture: this is where we define the layers of the model, and how they are connected to each other.\n",
        "- Compile the model: this is where we define the loss function, the optimizer, and the metrics that we want to use to evaluate the model.\n",
        "- Train the model: this is where we train the model on the training data.\n",
        "\n",
        "Let's start with defining the model architecture. There are two ways to do this in Keras - the Sequential API and the Functional API. The Sequential API is the simplest way to build a model, and is suitable for most use cases. The Functional API is more flexible, and allows you to build more complex models. We will start with the Sequential API, and then we will look at the Functional API later in the course.\n",
        "\n",
        "Our simple neural network will be \"fully-connected\". This means that each neuron in a given layer is connected to every neuron in the next layer. This is also known as a \"dense\" layer. We will use the `Dense` class from Keras to define our layers."
      ]
    },
    {
      "cell_type": "code",
      "execution_count": null,
      "metadata": {
        "colab": {
          "base_uri": "https://localhost:8080/"
        },
        "id": "R6LP5wN6_sae",
        "outputId": "5bf365ef-0933-428d-a884-eae2ddccd09f"
      },
      "outputs": [
        {
          "output_type": "stream",
          "name": "stdout",
          "text": [
            "Model: \"sequential\"\n",
            "_________________________________________________________________\n",
            " Layer (type)                Output Shape              Param #   \n",
            "=================================================================\n",
            " dense (Dense)               (None, 64)                4160      \n",
            "                                                                 \n",
            " dense_1 (Dense)             (None, 64)                4160      \n",
            "                                                                 \n",
            " dense_2 (Dense)             (None, 10)                650       \n",
            "                                                                 \n",
            "=================================================================\n",
            "Total params: 8970 (35.04 KB)\n",
            "Trainable params: 8970 (35.04 KB)\n",
            "Non-trainable params: 0 (0.00 Byte)\n",
            "_________________________________________________________________\n"
          ]
        }
      ],
      "source": [
        "from tensorflow.keras.models import Sequential\n",
        "from tensorflow.keras.layers import Dense\n",
        "\n",
        "model = Sequential()\n",
        "\n",
        "# Input layer\n",
        "model.add(Dense(64, activation='relu', input_shape=(64,))) # 64 neurons, ReLU activation, input shape of 64\n",
        "\n",
        "# Hidden layer\n",
        "model.add(Dense(64, activation='relu')) # 64 neurons, ReLU activation\n",
        "\n",
        "# Output layer\n",
        "model.add(Dense(10, activation='softmax')) # 10 neurons, softmax activation\n",
        "\n",
        "model.summary()"
      ]
    },
    {
      "cell_type": "markdown",
      "metadata": {
        "collapsed": false,
        "id": "t0PL23X8_sae"
      },
      "source": [
        "Congratulations! You have just built your first neural network with Keras. As we can confirm from the `model.summary()` output, our model has 3 layers. The first layer has 64 neurons, the second layer has 64 neurons, and the output layer has 10 neurons. The output layer uses the softmax activation function, which is commonly used for multi-class classification problems. The other layers use the ReLU activation function, which is commonly used for hidden layers in neural networks.\n",
        "\n",
        "Next, we need to compile the model. This is where we define the loss function, the optimizer, and the metrics that we want to use to evaluate the model. We will use the `compile` method of the model to do this."
      ]
    },
    {
      "cell_type": "code",
      "execution_count": null,
      "metadata": {
        "id": "6Wf_8c6e_sae"
      },
      "outputs": [],
      "source": [
        "model.compile(\n",
        "    loss='categorical_crossentropy', # Loss function\n",
        "    optimizer='sgd', # Optimizer\n",
        "    metrics=['accuracy'] # Metrics to evaluate the model\n",
        ")"
      ]
    },
    {
      "cell_type": "markdown",
      "metadata": {
        "collapsed": false,
        "id": "fagoVnMN_sae"
      },
      "source": [
        "Because we are predicting which class a sample belongs to, we will use the `categorical_crossentropy` function. This loss function is commonly used for multi-class classification problems.\n",
        "\n",
        "For our optimizer, we are using the standard stochastic gradient descent (SGD) algorithm. This is a simple optimizer that works well for many problems. We will look at more advanced optimizers later in the course.\n",
        "\n",
        "Finally, we are using the `accuracy` metric to evaluate the model. This is a common metric for classification problems, and it is simply the fraction of samples that are correctly classified. This is an easier metric for us to understand, but it's not quite as useful for actually training the model (for example, it doesn't tell us how \"confident\" the model is in its predictions).\n",
        "\n",
        "Now that we have (a) defined the model architecture and (b) compiled the model, we are ready to train the model. We will use the `fit` method of the model to do this."
      ]
    },
    {
      "cell_type": "code",
      "execution_count": null,
      "metadata": {
        "colab": {
          "base_uri": "https://localhost:8080/"
        },
        "id": "QjmnVcpx_saf",
        "outputId": "a6dc7cf8-2c32-409e-8b14-b6d822ba873c"
      },
      "outputs": [
        {
          "output_type": "stream",
          "name": "stdout",
          "text": [
            "Epoch 1/5\n",
            "36/36 [==============================] - 2s 13ms/step - loss: 1.4835 - accuracy: 0.5970 - val_loss: 0.6144 - val_accuracy: 0.8125\n",
            "Epoch 2/5\n",
            "36/36 [==============================] - 0s 5ms/step - loss: 0.4821 - accuracy: 0.8607 - val_loss: 0.4062 - val_accuracy: 0.8924\n",
            "Epoch 3/5\n",
            "36/36 [==============================] - 0s 3ms/step - loss: 0.2900 - accuracy: 0.9217 - val_loss: 0.3039 - val_accuracy: 0.9167\n",
            "Epoch 4/5\n",
            "36/36 [==============================] - 0s 3ms/step - loss: 0.2196 - accuracy: 0.9426 - val_loss: 0.2786 - val_accuracy: 0.9097\n",
            "Epoch 5/5\n",
            "36/36 [==============================] - 0s 3ms/step - loss: 0.1788 - accuracy: 0.9556 - val_loss: 0.3391 - val_accuracy: 0.8924\n"
          ]
        },
        {
          "output_type": "execute_result",
          "data": {
            "text/plain": [
              "<keras.src.callbacks.History at 0x7b3ac06ca4a0>"
            ]
          },
          "metadata": {},
          "execution_count": 13
        }
      ],
      "source": [
        "model.fit(\n",
        "    X_train, # Training data\n",
        "    y_train, # Training labels\n",
        "    epochs=5, # Number of epochs\n",
        "    batch_size=32, # Number of samples per batch\n",
        "    validation_split=0.2 # Use 20% of the data for validation\n",
        ")"
      ]
    },
    {
      "cell_type": "markdown",
      "metadata": {
        "collapsed": false,
        "id": "p6WbF3-q_saf"
      },
      "source": [
        "We have now trained our model! We can see that the model has been trained for 5 epochs, and the loss and accuracy have been printed for each epoch. We can also see that the model has been evaluated on the validation data at the end of each epoch. This is useful for us to see how the model is performing on data that it hasn't seen during training.\n",
        "\n",
        "Once the model is trained, it's time to evaluate the model on the test set. We can use the `evaluate` method of the model to do this. If you were building a model for a real-world application, this is the very last thing you would do, and the result here would be the figure you'd report in your paper or presentation."
      ]
    },
    {
      "cell_type": "code",
      "execution_count": null,
      "metadata": {
        "colab": {
          "base_uri": "https://localhost:8080/"
        },
        "id": "kdJzVTv1_saf",
        "outputId": "e536393d-4be6-490a-99f5-44962f09c09a"
      },
      "outputs": [
        {
          "output_type": "stream",
          "name": "stdout",
          "text": [
            "12/12 [==============================] - 0s 2ms/step - loss: 0.2384 - accuracy: 0.9139\n",
            "Loss:     0.24\n",
            "Accuracy: 91.39%\n"
          ]
        }
      ],
      "source": [
        "loss, accuracy = model.evaluate(X_test, y_test)\n",
        "\n",
        "print(f'Loss:     {loss:.2f}')\n",
        "print(f'Accuracy: {accuracy*100:.2f}%')"
      ]
    },
    {
      "cell_type": "markdown",
      "metadata": {
        "collapsed": false,
        "id": "dLGXhAkj_saf"
      },
      "source": [
        "Hopefully you have achieved an accuracy of around 95%. This is pretty good, but we can do better! In the next section, we will look at how we can improve the performance of our model by using a more advanced optimizer. But before we get there, let's do one other thing - let's look at the predictions that our model is making on the test set. When you are building a model, it's often useful to have a look at some of the examples your model is getting wrong. Sometimes this can reveal problems with the data, or it can give you ideas for how to improve your model."
      ]
    },
    {
      "cell_type": "code",
      "execution_count": null,
      "metadata": {
        "colab": {
          "base_uri": "https://localhost:8080/",
          "height": 539
        },
        "id": "zh86G4TH_saf",
        "outputId": "d659299a-9cdf-4b00-b27a-73653c050d09"
      },
      "outputs": [
        {
          "output_type": "stream",
          "name": "stdout",
          "text": [
            "12/12 [==============================] - 0s 3ms/step\n"
          ]
        },
        {
          "output_type": "display_data",
          "data": {
            "text/plain": [
              "<Figure size 600x600 with 9 Axes>"
            ],
            "image/png": "[encoded data removed]"
          },
          "metadata": {}
        }
      ],
      "source": [
        "# Get the predictions for the test data\n",
        "predictions = model.predict(X_test)\n",
        "\n",
        "# Get the index of the largest probability (i.e. the predicted class)\n",
        "predicted_classes = np.argmax(predictions, axis=1)\n",
        "true_classes = np.argmax(y_test, axis=1)\n",
        "misclassified_indices = np.where(predicted_classes != true_classes)[0]\n",
        "\n",
        "# Get the misclassified samples themselves\n",
        "misclassified_samples = X_test[misclassified_indices]\n",
        "misclassified_labels = np.argmax(y_test[misclassified_indices], axis=1)\n",
        "\n",
        "# Pick 9 random misclassified samples\n",
        "random_indices = np.random.choice(len(misclassified_indices), 9, replace=False)\n",
        "\n",
        "fig, axes = plt.subplots(3, 3, figsize=(6, 6))\n",
        "for i, ax in enumerate(axes.flat):\n",
        "    ax.imshow(misclassified_samples[random_indices[i]].reshape(8, 8), cmap=plt.cm.gray_r, interpolation='nearest')\n",
        "    ax.set_title(f\"Pred: {predicted_classes[misclassified_indices[random_indices[i]]]}, Real: {misclassified_labels[random_indices[i]]}\")\n",
        "\n",
        "    # Removing axis labels\n",
        "    ax.set_xticks([])\n",
        "    ax.set_yticks([])\n",
        "\n",
        "plt.show()"
      ]
    },
    {
      "cell_type": "markdown",
      "metadata": {
        "collapsed": false,
        "id": "UBwNoDAW_saf"
      },
      "source": [
        "What do you think? Would you have made the same mistakes as the model? Determining whether the mistakes are \"understandable\" is a rough way of seeing if you could improve the model further, or if this is the best you can do with the data you have."
      ]
    },
    {
      "cell_type": "markdown",
      "metadata": {
        "id": "v5vkiTGS_saf"
      },
      "source": [
        "### b) Exercises: Impact of the Optimizer\n",
        "\n",
        "In this section, you will play around with the optimizer and see how it affects the performance of the model. We will start with the standard SGD optimizer, and then we will look at more advanced optimizers.\n",
        "\n",
        "1. Try decreasing the learning rate of the SGD optimizer by a factor of 10, or 100. What do you observe?\n",
        "2. Try increasing the learning rate of the SGD optimizer. What happens?\n",
        "3. The SGD optimizer has a momentum parameter. In a nutshell, this parameter controls how much the gradient from the previous step affects the current step. Try enabling momentum in the SGD optimizer with a value of 0.9. What happens?\n",
        "  \n",
        "**Notes**:\n",
        "\n",
        "The keras API documentation is available at:\n",
        "\n",
        "https://www.tensorflow.org/api_docs/python/tf/keras\n",
        "\n",
        "It is also possible to learn more about the parameters of a class by using the question mark: type and evaluate:\n",
        "\n",
        "```python\n",
        "optimizers.SGD?\n",
        "```\n",
        "\n",
        "in a jupyter notebook cell.\n",
        "\n",
        "It is also possible to type the beginning of a function call / constructor and type \"shift-tab\" after the opening paren:\n",
        "\n",
        "```python\n",
        "optimizers.SGD(<shift-tab>\n",
        "```"
      ]
    },
    {
      "cell_type": "markdown",
      "metadata": {
        "id": "CBeEF3vJ_sag"
      },
      "source": [
        "Next, let's try a more advanced optimizer. Adam is likely the most popular optimizer for deep learning. It is an adaptive learning rate optimizer, which means that it automatically adjusts the learning rate based on how the training is going. This can be very useful, as it means that we don't need to manually tune the learning rate. Let's see how it performs on our model.\n",
        "\n",
        "\n",
        "1. Replace the SGD optimizer by the Adam optimizer from keras and run it\n",
        "  with the default parameters.\n",
        "\n",
        "2. Add another hidden layer with ReLU activation and 64 neurons. Does it improve the model performance?\n"
      ]
    },
    {
      "cell_type": "code",
      "execution_count": null,
      "metadata": {
        "colab": {
          "base_uri": "https://localhost:8080/"
        },
        "id": "k_KX06-w_sag",
        "outputId": "806f77e4-cea1-4073-da33-06215843cf16"
      },
      "outputs": [
        {
          "output_type": "stream",
          "name": "stdout",
          "text": [
            "Model: \"sequential_1\"\n",
            "_________________________________________________________________\n",
            " Layer (type)                Output Shape              Param #   \n",
            "=================================================================\n",
            " dense_3 (Dense)             (None, 64)                4160      \n",
            "                                                                 \n",
            " dense_4 (Dense)             (None, 64)                4160      \n",
            "                                                                 \n",
            " dense_5 (Dense)             (None, 10)                650       \n",
            "                                                                 \n",
            "=================================================================\n",
            "Total params: 8970 (35.04 KB)\n",
            "Trainable params: 8970 (35.04 KB)\n",
            "Non-trainable params: 0 (0.00 Byte)\n",
            "_________________________________________________________________\n",
            "Epoch 1/15\n",
            "45/45 [==============================] - 1s 2ms/step - loss: 3.6666 - accuracy: 0.1385\n",
            "Epoch 2/15\n",
            "45/45 [==============================] - 0s 2ms/step - loss: 1.9156 - accuracy: 0.3493\n",
            "Epoch 3/15\n",
            "45/45 [==============================] - 0s 2ms/step - loss: 1.4265 - accuracy: 0.5379\n",
            "Epoch 4/15\n",
            "45/45 [==============================] - 0s 2ms/step - loss: 1.1432 - accuracy: 0.6319\n",
            "Epoch 5/15\n",
            "45/45 [==============================] - 0s 2ms/step - loss: 0.9507 - accuracy: 0.7035\n",
            "Epoch 6/15\n",
            "45/45 [==============================] - 0s 3ms/step - loss: 0.8087 - accuracy: 0.7516\n",
            "Epoch 7/15\n",
            "45/45 [==============================] - 0s 2ms/step - loss: 0.7063 - accuracy: 0.7878\n",
            "Epoch 8/15\n",
            "45/45 [==============================] - 0s 2ms/step - loss: 0.6258 - accuracy: 0.8246\n",
            "Epoch 9/15\n",
            "45/45 [==============================] - 0s 2ms/step - loss: 0.5612 - accuracy: 0.8441\n",
            "Epoch 10/15\n",
            "45/45 [==============================] - 0s 2ms/step - loss: 0.5104 - accuracy: 0.8615\n",
            "Epoch 11/15\n",
            "45/45 [==============================] - 0s 2ms/step - loss: 0.4682 - accuracy: 0.8789\n",
            "Epoch 12/15\n",
            "45/45 [==============================] - 0s 2ms/step - loss: 0.4331 - accuracy: 0.8880\n",
            "Epoch 13/15\n",
            "45/45 [==============================] - 0s 2ms/step - loss: 0.4041 - accuracy: 0.8942\n",
            "Epoch 14/15\n",
            "45/45 [==============================] - 0s 2ms/step - loss: 0.3789 - accuracy: 0.9047\n",
            "Epoch 15/15\n",
            "45/45 [==============================] - 0s 2ms/step - loss: 0.3576 - accuracy: 0.9088\n"
          ]
        }
      ],
      "source": [
        "# Your code here - copy the relevant parts from the previous section and add more cells as needed'\n",
        "# Decreasing the learning rate by a factor of 10\n",
        "\n",
        "from tensorflow.keras.models import Sequential\n",
        "from tensorflow.keras.layers import Dense\n",
        "from tensorflow.keras import optimizers\n",
        "\n",
        "model = Sequential()\n",
        "\n",
        "# Input layer\n",
        "model.add(Dense(64, activation='relu', input_shape=(64,))) # 64 neurons, ReLU activation, input shape of 64\n",
        "\n",
        "# Hidden layer\n",
        "model.add(Dense(64, activation='relu')) # 64 neurons, ReLU activation\n",
        "\n",
        "# Output layer\n",
        "model.add(Dense(10, activation='softmax')) # 10 neurons, softmax activation\n",
        "\n",
        "model.summary()\n",
        "\n",
        "model.compile(optimizer=optimizers.SGD(learning_rate=0.001), # Optimizer\n",
        "    loss='categorical_crossentropy', # Loss function\n",
        "    metrics=['accuracy'] # Metrics to evaluate the model\n",
        ")\n",
        "\n",
        "history = model.fit(\n",
        "    X_train, # Training data\n",
        "    y_train, # Training labels\n",
        "    epochs=15, # Number of epochs\n",
        "    batch_size=32, # Number of samples per batch\n",
        ")"
      ]
    },
    {
      "cell_type": "code",
      "execution_count": null,
      "metadata": {
        "colab": {
          "base_uri": "https://localhost:8080/"
        },
        "id": "aASK22_B_sag",
        "outputId": "5924d666-1cf7-4169-85a0-0eece227392b"
      },
      "outputs": [
        {
          "output_type": "stream",
          "name": "stdout",
          "text": [
            "Model: \"sequential_2\"\n",
            "_________________________________________________________________\n",
            " Layer (type)                Output Shape              Param #   \n",
            "=================================================================\n",
            " dense_6 (Dense)             (None, 64)                4160      \n",
            "                                                                 \n",
            " dense_7 (Dense)             (None, 64)                4160      \n",
            "                                                                 \n",
            " dense_8 (Dense)             (None, 10)                650       \n",
            "                                                                 \n",
            "=================================================================\n",
            "Total params: 8970 (35.04 KB)\n",
            "Trainable params: 8970 (35.04 KB)\n",
            "Non-trainable params: 0 (0.00 Byte)\n",
            "_________________________________________________________________\n",
            "Epoch 1/15\n",
            "45/45 [==============================] - 1s 2ms/step - loss: 7.4709 - accuracy: 0.0731\n",
            "Epoch 2/15\n",
            "45/45 [==============================] - 0s 2ms/step - loss: 4.9660 - accuracy: 0.0891\n",
            "Epoch 3/15\n",
            "45/45 [==============================] - 0s 2ms/step - loss: 3.9472 - accuracy: 0.1183\n",
            "Epoch 4/15\n",
            "45/45 [==============================] - 0s 2ms/step - loss: 3.4459 - accuracy: 0.1385\n",
            "Epoch 5/15\n",
            "45/45 [==============================] - 0s 2ms/step - loss: 3.1036 - accuracy: 0.1642\n",
            "Epoch 6/15\n",
            "45/45 [==============================] - 0s 2ms/step - loss: 2.8304 - accuracy: 0.1851\n",
            "Epoch 7/15\n",
            "45/45 [==============================] - 0s 2ms/step - loss: 2.5986 - accuracy: 0.2102\n",
            "Epoch 8/15\n",
            "45/45 [==============================] - 0s 2ms/step - loss: 2.3977 - accuracy: 0.2450\n",
            "Epoch 9/15\n",
            "45/45 [==============================] - 0s 2ms/step - loss: 2.2243 - accuracy: 0.2784\n",
            "Epoch 10/15\n",
            "45/45 [==============================] - 0s 2ms/step - loss: 2.0715 - accuracy: 0.3090\n",
            "Epoch 11/15\n",
            "45/45 [==============================] - 0s 2ms/step - loss: 1.9390 - accuracy: 0.3459\n",
            "Epoch 12/15\n",
            "45/45 [==============================] - 0s 2ms/step - loss: 1.8222 - accuracy: 0.3758\n",
            "Epoch 13/15\n",
            "45/45 [==============================] - 0s 2ms/step - loss: 1.7183 - accuracy: 0.4071\n",
            "Epoch 14/15\n",
            "45/45 [==============================] - 0s 2ms/step - loss: 1.6267 - accuracy: 0.4509\n",
            "Epoch 15/15\n",
            "45/45 [==============================] - 0s 2ms/step - loss: 1.5448 - accuracy: 0.4781\n"
          ]
        }
      ],
      "source": [
        "# Your code here\n",
        "\n",
        "from tensorflow.keras.models import Sequential\n",
        "from tensorflow.keras.layers import Dense\n",
        "from tensorflow.keras import optimizers\n",
        "\n",
        "model = Sequential()\n",
        "\n",
        "# Input layer\n",
        "model.add(Dense(64, activation='relu', input_shape=(64,))) # 64 neurons, ReLU activation, input shape of 64\n",
        "\n",
        "# Hidden layer\n",
        "model.add(Dense(64, activation='relu')) # 64 neurons, ReLU activation\n",
        "\n",
        "# Output layer\n",
        "model.add(Dense(10, activation='softmax')) # 10 neurons, softmax activation\n",
        "\n",
        "model.summary()\n",
        "\n",
        "model.compile(optimizer=optimizers.SGD(learning_rate=0.0001), # Optimizer\n",
        "    loss='categorical_crossentropy', # Loss function\n",
        "    metrics=['accuracy'] # Metrics to evaluate the model\n",
        ")\n",
        "\n",
        "history = model.fit(\n",
        "    X_train, # Training data\n",
        "    y_train, # Training labels\n",
        "    epochs=15, # Number of epochs\n",
        "    batch_size=32, # Number of samples per batch\n",
        ")"
      ]
    },
    {
      "cell_type": "code",
      "source": [
        "#Increasing the learning rate\n",
        "\n",
        "from tensorflow.keras.models import Sequential\n",
        "from tensorflow.keras.layers import Dense\n",
        "from tensorflow.keras import optimizers\n",
        "\n",
        "model = Sequential()\n",
        "\n",
        "# Input layer\n",
        "model.add(Dense(64, activation='relu', input_shape=(64,))) # 64 neurons, ReLU activation, input shape of 64\n",
        "\n",
        "# Hidden layer\n",
        "model.add(Dense(64, activation='relu')) # 64 neurons, ReLU activation\n",
        "\n",
        "# Output layer\n",
        "model.add(Dense(10, activation='softmax')) # 10 neurons, softmax activation\n",
        "\n",
        "model.summary()\n",
        "\n",
        "model.compile(optimizer=optimizers.SGD(learning_rate=0.1), # Optimizer\n",
        "    loss='categorical_crossentropy', # Loss function\n",
        "    metrics=['accuracy'] # Metrics to evaluate the model\n",
        ")\n",
        "\n",
        "history = model.fit(\n",
        "    X_train, # Training data\n",
        "    y_train, # Training labels\n",
        "    epochs=15, # Number of epochs\n",
        "    batch_size=32, # Number of samples per batch\n",
        ")"
      ],
      "metadata": {
        "colab": {
          "base_uri": "https://localhost:8080/"
        },
        "id": "QpgH0oubMMu0",
        "outputId": "8ee6df05-7707-4fbf-d6de-04e687f9c849"
      },
      "execution_count": null,
      "outputs": [
        {
          "output_type": "stream",
          "name": "stdout",
          "text": [
            "Model: \"sequential_3\"\n",
            "_________________________________________________________________\n",
            " Layer (type)                Output Shape              Param #   \n",
            "=================================================================\n",
            " dense_9 (Dense)             (None, 64)                4160      \n",
            "                                                                 \n",
            " dense_10 (Dense)            (None, 64)                4160      \n",
            "                                                                 \n",
            " dense_11 (Dense)            (None, 10)                650       \n",
            "                                                                 \n",
            "=================================================================\n",
            "Total params: 8970 (35.04 KB)\n",
            "Trainable params: 8970 (35.04 KB)\n",
            "Non-trainable params: 0 (0.00 Byte)\n",
            "_________________________________________________________________\n",
            "Epoch 1/15\n",
            "45/45 [==============================] - 1s 3ms/step - loss: 2.4663 - accuracy: 0.3271\n",
            "Epoch 2/15\n",
            "45/45 [==============================] - 0s 3ms/step - loss: 1.5832 - accuracy: 0.4649\n",
            "Epoch 3/15\n",
            "45/45 [==============================] - 0s 4ms/step - loss: 1.8515 - accuracy: 0.2832\n",
            "Epoch 4/15\n",
            "45/45 [==============================] - 0s 3ms/step - loss: 1.3285 - accuracy: 0.4892\n",
            "Epoch 5/15\n",
            "45/45 [==============================] - 0s 3ms/step - loss: 1.1397 - accuracy: 0.5616\n",
            "Epoch 6/15\n",
            "45/45 [==============================] - 0s 2ms/step - loss: 0.9996 - accuracy: 0.6173\n",
            "Epoch 7/15\n",
            "45/45 [==============================] - 0s 2ms/step - loss: 0.6690 - accuracy: 0.7759\n",
            "Epoch 8/15\n",
            "45/45 [==============================] - 0s 3ms/step - loss: 0.5248 - accuracy: 0.8650\n",
            "Epoch 9/15\n",
            "45/45 [==============================] - 0s 3ms/step - loss: 0.6899 - accuracy: 0.8316\n",
            "Epoch 10/15\n",
            "45/45 [==============================] - 0s 4ms/step - loss: 0.7161 - accuracy: 0.7432\n",
            "Epoch 11/15\n",
            "45/45 [==============================] - 0s 3ms/step - loss: 0.6072 - accuracy: 0.7648\n",
            "Epoch 12/15\n",
            "45/45 [==============================] - 0s 2ms/step - loss: 0.5223 - accuracy: 0.7982\n",
            "Epoch 13/15\n",
            "45/45 [==============================] - 0s 3ms/step - loss: 0.4067 - accuracy: 0.8664\n",
            "Epoch 14/15\n",
            "45/45 [==============================] - 0s 3ms/step - loss: 0.3721 - accuracy: 0.8831\n",
            "Epoch 15/15\n",
            "45/45 [==============================] - 0s 3ms/step - loss: 0.2233 - accuracy: 0.9311\n"
          ]
        }
      ]
    },
    {
      "cell_type": "code",
      "source": [
        "#Enable momemtuem in the SGD optimizer\n",
        "\n",
        "from tensorflow.keras.models import Sequential\n",
        "from tensorflow.keras.layers import Dense\n",
        "from tensorflow.keras import optimizers\n",
        "\n",
        "model = Sequential()\n",
        "\n",
        "# Input layer\n",
        "model.add(Dense(64, activation='relu', input_shape=(64,))) # 64 neurons, ReLU activation, input shape of 64\n",
        "\n",
        "# Hidden layer\n",
        "model.add(Dense(64, activation='relu')) # 64 neurons, ReLU activation\n",
        "\n",
        "# Output layer\n",
        "model.add(Dense(10, activation='softmax')) # 10 neurons, softmax activation\n",
        "\n",
        "model.summary()\n",
        "\n",
        "model.compile(optimizer=optimizers.SGD(learning_rate=0.01, momentum=0.9), # Optimizer\n",
        "    loss='categorical_crossentropy', # Loss function\n",
        "    metrics=['accuracy'] # Metrics to evaluate the model\n",
        ")\n",
        "\n",
        "history = model.fit(\n",
        "    X_train, # Training data\n",
        "    y_train, # Training labels\n",
        "    epochs=15, # Number of epochs\n",
        "    batch_size=32, # Number of samples per batch\n",
        ")"
      ],
      "metadata": {
        "colab": {
          "base_uri": "https://localhost:8080/"
        },
        "id": "ARrIy5mdMvwZ",
        "outputId": "00083446-ceea-485c-81c1-4fdef36a0a91"
      },
      "execution_count": null,
      "outputs": [
        {
          "output_type": "stream",
          "name": "stdout",
          "text": [
            "Model: \"sequential_4\"\n",
            "_________________________________________________________________\n",
            " Layer (type)                Output Shape              Param #   \n",
            "=================================================================\n",
            " dense_12 (Dense)            (None, 64)                4160      \n",
            "                                                                 \n",
            " dense_13 (Dense)            (None, 64)                4160      \n",
            "                                                                 \n",
            " dense_14 (Dense)            (None, 10)                650       \n",
            "                                                                 \n",
            "=================================================================\n",
            "Total params: 8970 (35.04 KB)\n",
            "Trainable params: 8970 (35.04 KB)\n",
            "Non-trainable params: 0 (0.00 Byte)\n",
            "_________________________________________________________________\n",
            "Epoch 1/15\n",
            "45/45 [==============================] - 1s 2ms/step - loss: 1.3371 - accuracy: 0.6736\n",
            "Epoch 2/15\n",
            "45/45 [==============================] - 0s 2ms/step - loss: 0.1958 - accuracy: 0.9402\n",
            "Epoch 3/15\n",
            "45/45 [==============================] - 0s 2ms/step - loss: 0.1122 - accuracy: 0.9645\n",
            "Epoch 4/15\n",
            "45/45 [==============================] - 0s 2ms/step - loss: 0.0691 - accuracy: 0.9784\n",
            "Epoch 5/15\n",
            "45/45 [==============================] - 0s 2ms/step - loss: 0.0437 - accuracy: 0.9840\n",
            "Epoch 6/15\n",
            "45/45 [==============================] - 0s 8ms/step - loss: 0.0310 - accuracy: 0.9916\n",
            "Epoch 7/15\n",
            "45/45 [==============================] - 0s 8ms/step - loss: 0.0355 - accuracy: 0.9882\n",
            "Epoch 8/15\n",
            "45/45 [==============================] - 0s 4ms/step - loss: 0.0541 - accuracy: 0.9819\n",
            "Epoch 9/15\n",
            "45/45 [==============================] - 0s 2ms/step - loss: 0.0373 - accuracy: 0.9875\n",
            "Epoch 10/15\n",
            "45/45 [==============================] - 0s 2ms/step - loss: 0.0226 - accuracy: 0.9916\n",
            "Epoch 11/15\n",
            "45/45 [==============================] - 0s 3ms/step - loss: 0.0283 - accuracy: 0.9910\n",
            "Epoch 12/15\n",
            "45/45 [==============================] - 0s 2ms/step - loss: 0.0131 - accuracy: 0.9951\n",
            "Epoch 13/15\n",
            "45/45 [==============================] - 0s 6ms/step - loss: 0.0087 - accuracy: 0.9972\n",
            "Epoch 14/15\n",
            "45/45 [==============================] - 0s 6ms/step - loss: 0.0044 - accuracy: 0.9993\n",
            "Epoch 15/15\n",
            "45/45 [==============================] - 0s 7ms/step - loss: 0.0020 - accuracy: 1.0000\n"
          ]
        }
      ]
    },
    {
      "cell_type": "markdown",
      "metadata": {
        "id": "7qrkind3_sag"
      },
      "source": [
        "### Exercises: Forward Pass and Generalization\n",
        "\n",
        "Let's look in more detail at how the model makes predictions on the test set. We will walk through each step of making predictions, examining exactly what's going on.\n",
        "\n",
        "To start, we will apply our model to the test set, and look at what we get as output:"
      ]
    },
    {
      "cell_type": "code",
      "execution_count": null,
      "metadata": {
        "colab": {
          "base_uri": "https://localhost:8080/"
        },
        "id": "d24bNEfj_sag",
        "outputId": "2ac845f3-bab8-475c-ff82-04d83f74a15b"
      },
      "outputs": [
        {
          "output_type": "execute_result",
          "data": {
            "text/plain": [
              "<tf.Tensor: shape=(5, 10), dtype=float32, numpy=\n",
              "array([[2.1402397e-10, 7.6820484e-08, 1.7270041e-11, 1.8856115e-11,\n",
              "        1.5340078e-09, 1.5897379e-11, 9.9999946e-01, 6.9440406e-13,\n",
              "        3.5949472e-07, 1.3352573e-13],\n",
              "       [1.0695677e-06, 4.1741322e-09, 7.7572497e-11, 1.9041529e-07,\n",
              "        3.1540519e-06, 6.2058358e-03, 3.4123256e-11, 5.6165823e-07,\n",
              "        1.2813961e-06, 9.9378783e-01],\n",
              "       [3.1612909e-13, 1.7887982e-12, 5.8833160e-12, 9.9999946e-01,\n",
              "        3.3086391e-14, 2.1002483e-11, 1.0317720e-12, 3.4267206e-10,\n",
              "        2.8566425e-09, 5.2106128e-07],\n",
              "       [2.2094757e-09, 3.4660658e-07, 2.6247696e-08, 4.3358932e-07,\n",
              "        2.0302078e-04, 1.4987834e-05, 3.6678227e-10, 9.9904948e-01,\n",
              "        7.2094213e-07, 7.3082745e-04],\n",
              "       [8.9079361e-10, 1.8823053e-10, 9.9993020e-01, 3.6498425e-06,\n",
              "        3.5425227e-13, 4.8085563e-12, 1.1548325e-09, 9.0690011e-10,\n",
              "        6.5983273e-05, 5.5464392e-12]], dtype=float32)>"
            ]
          },
          "metadata": {},
          "execution_count": 20
        }
      ],
      "source": [
        "predictions_tf = model(X_test)\n",
        "predictions_tf[:5]"
      ]
    },
    {
      "cell_type": "code",
      "execution_count": null,
      "metadata": {
        "colab": {
          "base_uri": "https://localhost:8080/"
        },
        "id": "Cbnhf5EK_sag",
        "outputId": "57fcfbbb-50ca-454c-b28c-8b270df2dbe0"
      },
      "outputs": [
        {
          "output_type": "execute_result",
          "data": {
            "text/plain": [
              "(tensorflow.python.framework.ops.EagerTensor, TensorShape([360, 10]))"
            ]
          },
          "metadata": {},
          "execution_count": 21
        }
      ],
      "source": [
        "type(predictions_tf), predictions_tf.shape"
      ]
    },
    {
      "cell_type": "markdown",
      "metadata": {
        "id": "LdHsjg3l_sah"
      },
      "source": [
        "The raw output of the model is a tensor of shape `(360, 10)`. This means that we have 360 samples, and for each sample we have 10 values. Each of these values represents the probability that the sample belongs to a given class. This means that we have 10 probabilities for each sample, and the sum of these probabilities is 1. We can confirm this by summing the probabilities for each sample:"
      ]
    },
    {
      "cell_type": "code",
      "execution_count": null,
      "metadata": {
        "colab": {
          "base_uri": "https://localhost:8080/"
        },
        "id": "t_F2fJ8L_sat",
        "outputId": "449e107b-5788-4082-ae81-b033696d051b"
      },
      "outputs": [
        {
          "output_type": "execute_result",
          "data": {
            "text/plain": [
              "<tf.Tensor: shape=(5,), dtype=float32, numpy=\n",
              "array([0.9999999, 0.9999999, 1.       , 0.9999998, 0.9999998],\n",
              "      dtype=float32)>"
            ]
          },
          "metadata": {},
          "execution_count": 22
        }
      ],
      "source": [
        "import tensorflow as tf\n",
        "\n",
        "tf.reduce_sum(predictions_tf, axis=1)[:5]"
      ]
    },
    {
      "cell_type": "markdown",
      "metadata": {
        "collapsed": false,
        "id": "Poy4BTzw_sau"
      },
      "source": [
        "...okay, there might be a small rounding error here and there. This is to do with how floating point numbers are represented in computers, and it's not something we need to worry about for now."
      ]
    },
    {
      "cell_type": "markdown",
      "metadata": {
        "id": "1K-OxwyZ_sau"
      },
      "source": [
        "We can also extract the label with the highest probability using the tensorflow API:"
      ]
    },
    {
      "cell_type": "code",
      "execution_count": null,
      "metadata": {
        "colab": {
          "base_uri": "https://localhost:8080/"
        },
        "id": "K-5sJYJt_sau",
        "outputId": "bffff8b3-f5e5-4e02-c5d4-0c005335263b"
      },
      "outputs": [
        {
          "output_type": "execute_result",
          "data": {
            "text/plain": [
              "<tf.Tensor: shape=(5,), dtype=int64, numpy=array([6, 9, 3, 7, 2])>"
            ]
          },
          "metadata": {},
          "execution_count": 23
        }
      ],
      "source": [
        "predicted_labels_tf = tf.argmax(predictions_tf, axis=1)\n",
        "predicted_labels_tf[:5]"
      ]
    },
    {
      "cell_type": "markdown",
      "metadata": {
        "collapsed": false,
        "id": "qCu85kCL_sau"
      },
      "source": [
        "One helpful aspect of this approach is that we don't just get the prediction, but also a sense of how confident the model is in its prediction. To see this in practice, let's take a look at some of the predictions the model is highly confident about (i.e. a lot of the probability mass is on one class):"
      ]
    },
    {
      "cell_type": "code",
      "execution_count": null,
      "metadata": {
        "colab": {
          "base_uri": "https://localhost:8080/",
          "height": 521
        },
        "id": "CPqLSfSb_sau",
        "outputId": "2eca7cc7-20a1-49b8-f8a7-8bd4e2bad235"
      },
      "outputs": [
        {
          "output_type": "display_data",
          "data": {
            "text/plain": [
              "<Figure size 600x600 with 9 Axes>"
            ],
            "image/png": "[encoded data removed]"
          },
          "metadata": {}
        }
      ],
      "source": [
        "# Get the values corresponding to the predicted labels for each sample\n",
        "predicted_values_tf = tf.reduce_max(predictions_tf, axis=1)\n",
        "\n",
        "# Get the indices of the samples with the highest predicted values\n",
        "most_confident_indices_tf = tf.argsort(predicted_values_tf, direction='DESCENDING').numpy()[:9]\n",
        "\n",
        "# Get the 9 most confident samples\n",
        "most_confident_samples_tf = X_test[most_confident_indices_tf]\n",
        "\n",
        "# Get the true labels for the 9 most confident samples\n",
        "most_confident_labels_tf = np.argmax(y_test[most_confident_indices_tf], axis=1)\n",
        "\n",
        "# Plot the 9 most confident samples\n",
        "fig, axes = plt.subplots(3, 3, figsize=(6, 6))\n",
        "\n",
        "for i, ax in enumerate(axes.flat):\n",
        "    ax.imshow(most_confident_samples_tf[i].reshape(8, 8), cmap=plt.cm.gray_r, interpolation='nearest')\n",
        "    ax.set_title(f\"{most_confident_labels_tf[i]}\")\n",
        "\n",
        "    # Removing axis labels\n",
        "    ax.set_xticks([])\n",
        "    ax.set_yticks([])\n",
        "\n",
        "plt.show()"
      ]
    },
    {
      "cell_type": "markdown",
      "metadata": {
        "id": "T8Q8Sscx_sau"
      },
      "source": [
        "## Impact of Initialization\n",
        "\n",
        "Let's study the impact of a bad initialization when training\n",
        "a deep feed forward network.\n",
        "\n",
        "By default, Keras dense layers use the \"Glorot Uniform\" initialization\n",
        "strategy to initialize the weight matrices:\n",
        "\n",
        "- each weight coefficient is randomly sampled from [-scale, scale]\n",
        "- scale is proportional to $\\frac{1}{\\sqrt{n_{in} + n_{out}}}$\n",
        "\n",
        "This strategy is known to work well to initialize deep neural networks\n",
        "with \"tanh\" or \"relu\" activation functions and then trained with\n",
        "standard SGD.\n",
        "\n",
        "To assess the impact of initialization let us plug an alternative init\n",
        "scheme into a 2 hidden layers networks with \"tanh\" activations.\n",
        "For the sake of the example let's use normal distributed weights\n",
        "with a manually adjustable scale (standard deviation) and see the\n",
        "impact the scale value:"
      ]
    },
    {
      "cell_type": "code",
      "execution_count": null,
      "metadata": {
        "id": "Mo8oRHf1_sav"
      },
      "outputs": [],
      "source": [
        "from tensorflow.keras import initializers\n",
        "from tensorflow.keras import optimizers\n",
        "\n",
        "input_dim = 64\n",
        "hidden_dim = 64\n",
        "output_dim = 10\n",
        "\n",
        "normal_init = initializers.TruncatedNormal(stddev=0.01, seed=42)\n",
        "\n",
        "model = Sequential()\n",
        "model.add(Dense(hidden_dim, input_dim=input_dim, activation=\"tanh\",\n",
        "                kernel_initializer=normal_init))\n",
        "model.add(Dense(hidden_dim, activation=\"tanh\",\n",
        "                kernel_initializer=normal_init))\n",
        "model.add(Dense(output_dim, activation=\"softmax\",\n",
        "                kernel_initializer=normal_init))\n",
        "\n",
        "model.compile(optimizer=optimizers.SGD(learning_rate=0.1),\n",
        "              loss='categorical_crossentropy', metrics=['accuracy'])"
      ]
    },
    {
      "cell_type": "code",
      "execution_count": null,
      "metadata": {
        "colab": {
          "base_uri": "https://localhost:8080/"
        },
        "id": "zWugGcfJ_sav",
        "outputId": "81f3eda5-3f27-4c97-d9e3-5e4d944ea6db"
      },
      "outputs": [
        {
          "output_type": "execute_result",
          "data": {
            "text/plain": [
              "[<keras.src.layers.core.dense.Dense at 0x7b3ab3157af0>,\n",
              " <keras.src.layers.core.dense.Dense at 0x7b3ab31eb5b0>,\n",
              " <keras.src.layers.core.dense.Dense at 0x7b3ab342e590>]"
            ]
          },
          "metadata": {},
          "execution_count": 26
        }
      ],
      "source": [
        "model.layers"
      ]
    },
    {
      "cell_type": "markdown",
      "metadata": {
        "id": "rDaUgt7x_sav"
      },
      "source": [
        "Let's have a look at the parameters of the first layer after initialization but before any training has happened:"
      ]
    },
    {
      "cell_type": "code",
      "execution_count": null,
      "metadata": {
        "colab": {
          "base_uri": "https://localhost:8080/"
        },
        "id": "f3O0zywO_sav",
        "outputId": "5bbbc8a8-0429-4771-ff5e-20afa0429019"
      },
      "outputs": [
        {
          "output_type": "execute_result",
          "data": {
            "text/plain": [
              "[<tf.Variable 'dense_15/kernel:0' shape=(64, 64) dtype=float32, numpy=\n",
              " array([[ 0.00015817, -0.01590087,  0.00103594, ...,  0.00962818,\n",
              "          0.00624957,  0.00994726],\n",
              "        [ 0.0081879 ,  0.00756818, -0.00668142, ...,  0.01084459,\n",
              "         -0.00317478, -0.00549116],\n",
              "        [-0.00086618, -0.00287623,  0.00391693, ...,  0.00064558,\n",
              "         -0.00420471,  0.00174566],\n",
              "        ...,\n",
              "        [-0.0029006 , -0.0091218 ,  0.00804327, ..., -0.01407086,\n",
              "          0.00952832, -0.01348555],\n",
              "        [ 0.00375078,  0.00967842,  0.00098119, ..., -0.00413454,\n",
              "          0.01695471,  0.00025196],\n",
              "        [ 0.00459809,  0.01223094, -0.00213172, ...,  0.01246831,\n",
              "         -0.00714749, -0.00868595]], dtype=float32)>,\n",
              " <tf.Variable 'dense_15/bias:0' shape=(64,) dtype=float32, numpy=\n",
              " array([0., 0., 0., 0., 0., 0., 0., 0., 0., 0., 0., 0., 0., 0., 0., 0., 0.,\n",
              "        0., 0., 0., 0., 0., 0., 0., 0., 0., 0., 0., 0., 0., 0., 0., 0., 0.,\n",
              "        0., 0., 0., 0., 0., 0., 0., 0., 0., 0., 0., 0., 0., 0., 0., 0., 0.,\n",
              "        0., 0., 0., 0., 0., 0., 0., 0., 0., 0., 0., 0., 0.], dtype=float32)>]"
            ]
          },
          "metadata": {},
          "execution_count": 27
        }
      ],
      "source": [
        "model.layers[0].weights"
      ]
    },
    {
      "cell_type": "code",
      "execution_count": null,
      "metadata": {
        "colab": {
          "base_uri": "https://localhost:8080/"
        },
        "id": "64HgePZ__sav",
        "outputId": "1e309934-28ed-4506-9339-345b36c0bfbc"
      },
      "outputs": [
        {
          "output_type": "execute_result",
          "data": {
            "text/plain": [
              "array([[ 0.00015817, -0.01590087,  0.00103594, ...,  0.00962818,\n",
              "         0.00624957,  0.00994726],\n",
              "       [ 0.0081879 ,  0.00756818, -0.00668142, ...,  0.01084459,\n",
              "        -0.00317478, -0.00549116],\n",
              "       [-0.00086618, -0.00287623,  0.00391693, ...,  0.00064558,\n",
              "        -0.00420471,  0.00174566],\n",
              "       ...,\n",
              "       [-0.0029006 , -0.0091218 ,  0.00804327, ..., -0.01407086,\n",
              "         0.00952832, -0.01348555],\n",
              "       [ 0.00375078,  0.00967842,  0.00098119, ..., -0.00413454,\n",
              "         0.01695471,  0.00025196],\n",
              "       [ 0.00459809,  0.01223094, -0.00213172, ...,  0.01246831,\n",
              "        -0.00714749, -0.00868595]], dtype=float32)"
            ]
          },
          "metadata": {},
          "execution_count": 28
        }
      ],
      "source": [
        "w = model.layers[0].weights[0].numpy()\n",
        "w"
      ]
    },
    {
      "cell_type": "code",
      "execution_count": null,
      "metadata": {
        "colab": {
          "base_uri": "https://localhost:8080/"
        },
        "id": "2sLVMxsi_sav",
        "outputId": "7dc990b0-d5e2-45ae-eed1-c9f04bc60ea6"
      },
      "outputs": [
        {
          "output_type": "execute_result",
          "data": {
            "text/plain": [
              "0.008835949"
            ]
          },
          "metadata": {},
          "execution_count": 29
        }
      ],
      "source": [
        "w.std()"
      ]
    },
    {
      "cell_type": "code",
      "execution_count": null,
      "metadata": {
        "colab": {
          "base_uri": "https://localhost:8080/"
        },
        "id": "tZMj1FRN_sav",
        "outputId": "5bfb4db6-54d7-4b57-a75e-ff8cdf01483b"
      },
      "outputs": [
        {
          "output_type": "execute_result",
          "data": {
            "text/plain": [
              "array([0., 0., 0., 0., 0., 0., 0., 0., 0., 0., 0., 0., 0., 0., 0., 0., 0.,\n",
              "       0., 0., 0., 0., 0., 0., 0., 0., 0., 0., 0., 0., 0., 0., 0., 0., 0.,\n",
              "       0., 0., 0., 0., 0., 0., 0., 0., 0., 0., 0., 0., 0., 0., 0., 0., 0.,\n",
              "       0., 0., 0., 0., 0., 0., 0., 0., 0., 0., 0., 0., 0.], dtype=float32)"
            ]
          },
          "metadata": {},
          "execution_count": 30
        }
      ],
      "source": [
        "b = model.layers[0].weights[1].numpy()\n",
        "b"
      ]
    },
    {
      "cell_type": "code",
      "execution_count": null,
      "metadata": {
        "colab": {
          "base_uri": "https://localhost:8080/",
          "height": 904
        },
        "id": "ozg-C49O_saw",
        "outputId": "c46289c4-b703-4eec-a1b7-df0efc871b78"
      },
      "outputs": [
        {
          "output_type": "stream",
          "name": "stdout",
          "text": [
            "Epoch 1/15\n",
            "45/45 [==============================] - 1s 3ms/step - loss: 2.2864 - accuracy: 0.2283\n",
            "Epoch 2/15\n",
            "45/45 [==============================] - 0s 3ms/step - loss: 1.7566 - accuracy: 0.4301\n",
            "Epoch 3/15\n",
            "45/45 [==============================] - 0s 2ms/step - loss: 1.0279 - accuracy: 0.7314\n",
            "Epoch 4/15\n",
            "45/45 [==============================] - 0s 3ms/step - loss: 0.5052 - accuracy: 0.8824\n",
            "Epoch 5/15\n",
            "45/45 [==============================] - 0s 3ms/step - loss: 0.3388 - accuracy: 0.9102\n",
            "Epoch 6/15\n",
            "45/45 [==============================] - 0s 2ms/step - loss: 0.2544 - accuracy: 0.9262\n",
            "Epoch 7/15\n",
            "45/45 [==============================] - 0s 2ms/step - loss: 0.1779 - accuracy: 0.9527\n",
            "Epoch 8/15\n",
            "45/45 [==============================] - 0s 2ms/step - loss: 0.1246 - accuracy: 0.9694\n",
            "Epoch 9/15\n",
            "45/45 [==============================] - 0s 2ms/step - loss: 0.1088 - accuracy: 0.9701\n",
            "Epoch 10/15\n",
            "45/45 [==============================] - 0s 3ms/step - loss: 0.0777 - accuracy: 0.9861\n",
            "Epoch 11/15\n",
            "45/45 [==============================] - 0s 2ms/step - loss: 0.0986 - accuracy: 0.9749\n",
            "Epoch 12/15\n",
            "45/45 [==============================] - 0s 2ms/step - loss: 0.0696 - accuracy: 0.9833\n",
            "Epoch 13/15\n",
            "45/45 [==============================] - 0s 2ms/step - loss: 0.0472 - accuracy: 0.9910\n",
            "Epoch 14/15\n",
            "45/45 [==============================] - 0s 2ms/step - loss: 0.0379 - accuracy: 0.9944\n",
            "Epoch 15/15\n",
            "45/45 [==============================] - 0s 2ms/step - loss: 0.0263 - accuracy: 0.9972\n"
          ]
        },
        {
          "output_type": "display_data",
          "data": {
            "text/plain": [
              "<Figure size 1200x400 with 1 Axes>"
            ],
            "image/png": "[encoded data removed]"
          },
          "metadata": {}
        }
      ],
      "source": [
        "history = model.fit(X_train, y_train, epochs=15, batch_size=32)\n",
        "\n",
        "plt.figure(figsize=(12, 4))\n",
        "plt.plot(history.history['loss'], label=\"Truncated Normal init\")\n",
        "plt.legend();"
      ]
    },
    {
      "cell_type": "markdown",
      "metadata": {
        "id": "RLbAxmVR_saw"
      },
      "source": [
        "Once the model has been fit, the weights have been updated and notably the biases are no longer 0:"
      ]
    },
    {
      "cell_type": "code",
      "execution_count": null,
      "metadata": {
        "colab": {
          "base_uri": "https://localhost:8080/"
        },
        "id": "3e_dnumI_saw",
        "outputId": "bc87340f-92e5-43ff-faff-f74d5f9c5689"
      },
      "outputs": [
        {
          "output_type": "execute_result",
          "data": {
            "text/plain": [
              "[<tf.Variable 'dense_15/kernel:0' shape=(64, 64) dtype=float32, numpy=\n",
              " array([[ 1.5817076e-04, -1.5900869e-02,  1.0359446e-03, ...,\n",
              "          9.6281823e-03,  6.2495731e-03,  9.9472618e-03],\n",
              "        [ 1.3559319e-02, -9.0373484e-03, -1.0846038e-02, ...,\n",
              "         -4.6048006e-03, -1.7763907e-02, -2.6890613e-02],\n",
              "        [ 5.5101261e-02, -6.8504408e-02, -6.3135616e-02, ...,\n",
              "         -5.4191776e-02, -1.1344391e-01,  4.7149926e-02],\n",
              "        ...,\n",
              "        [ 6.9263345e-03,  3.3108804e-02,  1.5150276e-01, ...,\n",
              "         -1.0256077e-01,  4.6379063e-02, -1.6488943e-01],\n",
              "        [ 2.1455228e-02,  3.8749988e-03,  1.2085595e-01, ...,\n",
              "         -9.2395335e-02, -2.8332446e-02, -1.3515162e-01],\n",
              "        [ 3.2977764e-02,  4.0397267e-03,  4.6264488e-02, ...,\n",
              "          5.5032112e-02,  3.1654958e-02, -5.3698689e-02]], dtype=float32)>,\n",
              " <tf.Variable 'dense_15/bias:0' shape=(64,) dtype=float32, numpy=\n",
              " array([-1.2299622e-03,  1.2237795e-04,  2.9718676e-03, -4.2735087e-03,\n",
              "        -3.0511974e-03, -3.8235780e-04, -1.4275777e-03, -6.9977349e-04,\n",
              "         8.7432953e-04, -2.5123875e-03,  1.3802743e-03,  4.8287930e-03,\n",
              "        -3.4191110e-04, -7.1859738e-04,  3.7879539e-03, -1.6981277e-04,\n",
              "         2.8740230e-03,  1.3852253e-03, -7.2599814e-04, -2.2165268e-03,\n",
              "         4.5357626e-03, -8.4542419e-04,  2.6843636e-03,  7.6824543e-04,\n",
              "         6.4114747e-03, -1.3027522e-03, -1.8050083e-03,  1.6009099e-03,\n",
              "         2.1725744e-03, -1.2618280e-03,  3.9662831e-03,  1.3479321e-03,\n",
              "         1.3330678e-03,  1.4257262e-03,  1.9733289e-03, -1.7597468e-03,\n",
              "        -5.5236375e-04, -7.3476846e-04, -1.1226690e-03,  4.3702750e-03,\n",
              "         1.9039526e-03, -1.6022285e-03, -9.3240393e-05,  1.3869315e-03,\n",
              "         1.5214161e-03,  5.5452832e-04,  5.7162675e-03, -9.5290586e-04,\n",
              "         3.0329325e-03,  2.0691385e-03,  2.4971173e-03, -3.6815344e-03,\n",
              "        -5.3377617e-03, -1.9820451e-03,  1.8023828e-03,  1.9145833e-03,\n",
              "         2.2780634e-03,  1.9350974e-03,  6.1453512e-04,  9.3553783e-05,\n",
              "        -1.0063769e-03, -3.2094208e-04, -4.3184641e-03,  3.8358237e-04],\n",
              "       dtype=float32)>]"
            ]
          },
          "metadata": {},
          "execution_count": 32
        }
      ],
      "source": [
        "model.layers[0].weights"
      ]
    },
    {
      "cell_type": "markdown",
      "metadata": {
        "id": "zjFkDkOT_saw"
      },
      "source": [
        "#### Questions:\n",
        "\n",
        "- Try the following initialization schemes and see whether\n",
        "  the SGD algorithm can successfully train the network or\n",
        "  not:\n",
        "  \n",
        "  - a very small e.g. `stddev=1e-3`\n",
        "  - a larger scale e.g. `stddev=1` or `10`\n",
        "  - initialize all weights to 0 (constant initialization)\n",
        "  \n",
        "- What do you observe? Can you find an explanation for those\n",
        "  outcomes?\n",
        "\n",
        "- Are more advanced solvers such as SGD with momentum or Adam able\n",
        "  to deal better with such bad initializations?"
      ]
    },
    {
      "cell_type": "code",
      "execution_count": null,
      "metadata": {
        "id": "9MPV0ywJ_saw",
        "colab": {
          "base_uri": "https://localhost:8080/"
        },
        "outputId": "11d173f4-e367-46d0-efd6-3cc815e71713"
      },
      "outputs": [
        {
          "output_type": "stream",
          "name": "stdout",
          "text": [
            "Epoch 1/15\n",
            "45/45 [==============================] - 2s 5ms/step - loss: 2.3034 - accuracy: 0.0995\n",
            "Epoch 2/15\n",
            "45/45 [==============================] - 0s 5ms/step - loss: 2.3032 - accuracy: 0.1023\n",
            "Epoch 3/15\n",
            "45/45 [==============================] - 0s 5ms/step - loss: 2.3033 - accuracy: 0.0967\n",
            "Epoch 4/15\n",
            "45/45 [==============================] - 0s 5ms/step - loss: 2.3031 - accuracy: 0.1072\n",
            "Epoch 5/15\n",
            "45/45 [==============================] - 0s 7ms/step - loss: 2.3032 - accuracy: 0.1016\n",
            "Epoch 6/15\n",
            "45/45 [==============================] - 0s 11ms/step - loss: 2.3031 - accuracy: 0.1058\n",
            "Epoch 7/15\n",
            "45/45 [==============================] - 0s 6ms/step - loss: 2.3032 - accuracy: 0.1030\n",
            "Epoch 8/15\n",
            "45/45 [==============================] - 0s 11ms/step - loss: 2.3030 - accuracy: 0.0967\n",
            "Epoch 9/15\n",
            "45/45 [==============================] - 0s 9ms/step - loss: 2.3016 - accuracy: 0.1120\n",
            "Epoch 10/15\n",
            "45/45 [==============================] - 0s 8ms/step - loss: 2.1107 - accuracy: 0.1726\n",
            "Epoch 11/15\n",
            "45/45 [==============================] - 1s 11ms/step - loss: 1.7955 - accuracy: 0.2171\n",
            "Epoch 12/15\n",
            "45/45 [==============================] - 1s 15ms/step - loss: 1.6406 - accuracy: 0.2756\n",
            "Epoch 13/15\n",
            "45/45 [==============================] - 1s 16ms/step - loss: 1.4581 - accuracy: 0.3361\n",
            "Epoch 14/15\n",
            "45/45 [==============================] - 1s 15ms/step - loss: 1.1925 - accuracy: 0.5087\n",
            "Epoch 15/15\n",
            "45/45 [==============================] - 1s 12ms/step - loss: 1.0522 - accuracy: 0.5560\n"
          ]
        }
      ],
      "source": [
        "# Your code here\n",
        "from tensorflow.keras import initializers\n",
        "from tensorflow.keras import optimizers\n",
        "\n",
        "input_dim = 64\n",
        "hidden_dim = 64\n",
        "output_dim = 10\n",
        "\n",
        "normal_init = initializers.TruncatedNormal(stddev=1e-3, seed=42)\n",
        "\n",
        "model = Sequential()\n",
        "model.add(Dense(hidden_dim, input_dim=input_dim, activation=\"tanh\",\n",
        "                kernel_initializer=normal_init))\n",
        "model.add(Dense(hidden_dim, activation=\"tanh\",\n",
        "                kernel_initializer=normal_init))\n",
        "model.add(Dense(output_dim, activation=\"softmax\",\n",
        "                kernel_initializer=normal_init))\n",
        "\n",
        "model.compile(optimizer=optimizers.SGD(learning_rate=0.1),\n",
        "              loss='categorical_crossentropy', metrics=['accuracy'])\n",
        "\n",
        "history = model.fit(\n",
        "    X_train, # Training data\n",
        "    y_train, # Training labels\n",
        "    epochs=15, # Number of epochs\n",
        "    batch_size=32, # Number of samples per batch\n",
        ")"
      ]
    }
  ],
  "metadata": {
    "file_extension": ".py",
    "kernelspec": {
      "display_name": "Python 3 (ipykernel)",
      "language": "python",
      "name": "python3"
    },
    "language_info": {
      "codemirror_mode": {
        "name": "ipython",
        "version": 3
      },
      "file_extension": ".py",
      "mimetype": "text/x-python",
      "name": "python",
      "nbconvert_exporter": "python",
      "pygments_lexer": "ipython3",
      "version": "3.11.8"
    },
    "mimetype": "text/x-python",
    "name": "python",
    "npconvert_exporter": "python",
    "pygments_lexer": "ipython3",
    "toc": {
      "base_numbering": 1,
      "nav_menu": {},
      "number_sections": true,
      "sideBar": true,
      "skip_h1_title": false,
      "title_cell": "Table of Contents",
      "title_sidebar": "Contents",
      "toc_cell": false,
      "toc_position": {},
      "toc_section_display": true,
      "toc_window_display": false
    },
    "version": 3,
    "colab": {
      "provenance": [],
      "include_colab_link": true
    }
  },
  "nbformat": 4,
  "nbformat_minor": 0
}